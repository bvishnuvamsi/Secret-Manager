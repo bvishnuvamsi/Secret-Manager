{
 "cells": [
  {
   "cell_type": "markdown",
   "id": "0b93986d-208c-41bf-9a0e-1a8635d6a2d9",
   "metadata": {},
   "source": [
    "1B. Add plaintext file persistence (still insecure on purpose)\n",
    "\n",
    "What you’ll learn and implement: writing/reading a JSON file so data survives restarts."
   ]
  },
  {
   "cell_type": "code",
   "execution_count": 6,
   "id": "b8dddcad-b98d-4138-93ed-48ae0098561e",
   "metadata": {},
   "outputs": [
    {
     "name": "stdout",
     "output_type": "stream",
     "text": [
      "Loaded 0 entries from vault_plain_text.json (PLAINTEXT).\n",
      "\n",
      "---Secrets Manager (Functions)---\n",
      "Option 1 : Store Service name and API Key\n",
      "Option 2 : Retrieve API Key based on Service name\n",
      "Option 3 : Exit/Quit\n"
     ]
    },
    {
     "name": "stdin",
     "output_type": "stream",
     "text": [
      "Choose an Option:  1\n",
      "Service name:  github\n",
      "API Key:  qwe123\n"
     ]
    },
    {
     "name": "stdout",
     "output_type": "stream",
     "text": [
      "Stored API Key for 'github'.\n",
      "\n",
      "---Secrets Manager (Functions)---\n",
      "Option 1 : Store Service name and API Key\n",
      "Option 2 : Retrieve API Key based on Service name\n",
      "Option 3 : Exit/Quit\n"
     ]
    },
    {
     "name": "stdin",
     "output_type": "stream",
     "text": [
      "Choose an Option:  1\n",
      "Service name:  prime\n",
      "API Key:  ert234\n"
     ]
    },
    {
     "name": "stdout",
     "output_type": "stream",
     "text": [
      "Stored API Key for 'prime'.\n",
      "\n",
      "---Secrets Manager (Functions)---\n",
      "Option 1 : Store Service name and API Key\n",
      "Option 2 : Retrieve API Key based on Service name\n",
      "Option 3 : Exit/Quit\n"
     ]
    },
    {
     "name": "stdin",
     "output_type": "stream",
     "text": [
      "Choose an Option:  1\n",
      "Service name:  apple\n",
      "API Key:  rfv456\n"
     ]
    },
    {
     "name": "stdout",
     "output_type": "stream",
     "text": [
      "Stored API Key for 'apple'.\n",
      "\n",
      "---Secrets Manager (Functions)---\n",
      "Option 1 : Store Service name and API Key\n",
      "Option 2 : Retrieve API Key based on Service name\n",
      "Option 3 : Exit/Quit\n"
     ]
    },
    {
     "name": "stdin",
     "output_type": "stream",
     "text": [
      "Choose an Option:  1\n",
      "Service name:  prime\n",
      "API Key:  sedc567\n"
     ]
    },
    {
     "name": "stdout",
     "output_type": "stream",
     "text": [
      "Stored API Key for 'prime'.\n",
      "\n",
      "---Secrets Manager (Functions)---\n",
      "Option 1 : Store Service name and API Key\n",
      "Option 2 : Retrieve API Key based on Service name\n",
      "Option 3 : Exit/Quit\n"
     ]
    },
    {
     "name": "stdin",
     "output_type": "stream",
     "text": [
      "Choose an Option:  1\n",
      "Service name:  netflix\n",
      "API Key:  qazxsw1234567890\n"
     ]
    },
    {
     "name": "stdout",
     "output_type": "stream",
     "text": [
      "Stored API Key for 'netflix'.\n",
      "\n",
      "---Secrets Manager (Functions)---\n",
      "Option 1 : Store Service name and API Key\n",
      "Option 2 : Retrieve API Key based on Service name\n",
      "Option 3 : Exit/Quit\n"
     ]
    },
    {
     "name": "stdin",
     "output_type": "stream",
     "text": [
      "Choose an Option:  2\n",
      "Service name to retrieve:  prime\n"
     ]
    },
    {
     "name": "stdout",
     "output_type": "stream",
     "text": [
      "API Key for 'prime': sedc567\n",
      "\n",
      "---Secrets Manager (Functions)---\n",
      "Option 1 : Store Service name and API Key\n",
      "Option 2 : Retrieve API Key based on Service name\n",
      "Option 3 : Exit/Quit\n"
     ]
    },
    {
     "name": "stdin",
     "output_type": "stream",
     "text": [
      "Choose an Option:  netflix\n"
     ]
    },
    {
     "name": "stdout",
     "output_type": "stream",
     "text": [
      "Invalid option. Please choose one of the options 1, 2, 3.\n",
      "\n",
      "---Secrets Manager (Functions)---\n",
      "Option 1 : Store Service name and API Key\n",
      "Option 2 : Retrieve API Key based on Service name\n",
      "Option 3 : Exit/Quit\n"
     ]
    },
    {
     "name": "stdin",
     "output_type": "stream",
     "text": [
      "Choose an Option:  2\n",
      "Service name to retrieve:  netflix\n"
     ]
    },
    {
     "name": "stdout",
     "output_type": "stream",
     "text": [
      "API Key for 'netflix': qazxsw1234567890\n",
      "\n",
      "---Secrets Manager (Functions)---\n",
      "Option 1 : Store Service name and API Key\n",
      "Option 2 : Retrieve API Key based on Service name\n",
      "Option 3 : Exit/Quit\n"
     ]
    },
    {
     "name": "stdin",
     "output_type": "stream",
     "text": [
      "Choose an Option:  2\n",
      "Service name to retrieve:  apple\n"
     ]
    },
    {
     "name": "stdout",
     "output_type": "stream",
     "text": [
      "API Key for 'apple': rfv456\n",
      "\n",
      "---Secrets Manager (Functions)---\n",
      "Option 1 : Store Service name and API Key\n",
      "Option 2 : Retrieve API Key based on Service name\n",
      "Option 3 : Exit/Quit\n"
     ]
    },
    {
     "name": "stdin",
     "output_type": "stream",
     "text": [
      "Choose an Option:  3\n"
     ]
    },
    {
     "name": "stdout",
     "output_type": "stream",
     "text": [
      "Thank you for using for Service Manager, See you again\n"
     ]
    }
   ],
   "source": [
    "import json\n",
    "import os\n",
    "\n",
    "FILE = \"vault_plain_text.json\"\n",
    "\n",
    "## Loading from file\n",
    "#Load dict from JSON file, or return {} if file missing/corrupt\n",
    "def load_from_file():\n",
    "    if not os.path.exists(FILE):\n",
    "        return {}\n",
    "    try:\n",
    "        with open(FILE, \"r\", encoding=\"utf-8\") as f:\n",
    "            return json.load(f)\n",
    "    except(json.JSONDecodeError, OSErrror): ## incase file is unreadable\n",
    "        return {}\n",
    "\n",
    "## Saving the information to file\n",
    "## Write to JSON file in a simple, human-readable way\n",
    "def save_to_file(store):\n",
    "    with open(FILE, \"w\", encoding = \"utf-8\") as f:\n",
    "        json.dump(store, f, indent = 2)\n",
    "\n",
    "## Menu OPTIONS\n",
    "\n",
    "def ask_menu():\n",
    "    print(\"\\n---Secrets Manager (Functions)---\")\n",
    "    print(\"Option 1 : Store Service name and API Key\")\n",
    "    print(\"Option 2 : Retrieve API Key based on Service name\")\n",
    "    print(\"Option 3 : Exit/Quit\")\n",
    "    return input(\"Choose an Option: \").strip()\n",
    "\n",
    "## Main Function\n",
    "\n",
    "def main():\n",
    "    store = load_from_file()\n",
    "    print(f\"Loaded {len(store)} entr{'y' if len(store)==1 else 'ies'} from {FILE} (PLAINTEXT).\")\n",
    "\n",
    "\n",
    "    while True:\n",
    "        choice = ask_menu()\n",
    "\n",
    "        if choice == \"1\":\n",
    "            service = input(\"Service name: \").strip()\n",
    "            api_key = input(\"API Key: \").strip()\n",
    "            if not service:\n",
    "                print(\"Service cannot be empty field\")\n",
    "                continue\n",
    "            store[service] = api_key\n",
    "            save_to_file(store)\n",
    "            print(f\"Stored API Key for '{service}'.\")\n",
    "\n",
    "        elif choice == \"2\":\n",
    "            service = input(\"Service name to retrieve: \").strip()\n",
    "            if service in store:\n",
    "                print(f\"API Key for '{service}': {store[service]}\")\n",
    "            else :\n",
    "                print(f\"No key stored for '{service}'.\")\n",
    "\n",
    "        elif choice == \"3\":\n",
    "            print(\"Thank you for using for Service Manager, See you again\")\n",
    "            break\n",
    "\n",
    "        else:\n",
    "            print(\"Invalid option. Please choose one of the options 1, 2, 3.\")\n",
    "\n",
    "if __name__ == \"__main__\":\n",
    "    main()\n",
    "        "
   ]
  },
  {
   "cell_type": "code",
   "execution_count": null,
   "id": "b2c00520-f399-4cfb-aa8e-a98d6c774521",
   "metadata": {},
   "outputs": [],
   "source": [
    "# Code to convert the .ipynb to .py file\n",
    "## jupyter nbconvert --to script step_1b_store_and_retrieve_in_file.ipynb"
   ]
  },
  {
   "cell_type": "markdown",
   "id": "b171586e-de6a-4db5-ae77-4b6a3da8e48d",
   "metadata": {},
   "source": [
    "**1. What format is the file (vault_plain.json) written in, and why is it convenient?**\n",
    "\n",
    "<u>Answer</u> : \n",
    "\n",
    "File format — It’s JSON (JavaScript Object Notation), which is plain-text and human-readable. It’s convenient because:\n",
    "- It maps perfectly to Python dicts/lists/strings/numbers.  \n",
    "- It’s language-agnostic (many tools & languages can read it).\n",
    "- Easy to debug in an editor.\n",
    "\n",
    "**2. What happens if the file is deleted before you run the script?**\n",
    "\n",
    "<u>Answer</u> : \n",
    "- Data is lost and new file is created\n",
    "\n",
    "**3. Why is this insecure, even though it “works”?**\n",
    "  \n",
    "<u>Answer</u> :\n",
    "- anyone can open the file and view it as the keys are in plaintext. Even backups, git history, or any user with access to your disk can read them\n",
    "\n",
    "**4. What does UTF-8 encoding do and why use it?**\n",
    "\n",
    "<u>Answer</u> : \n",
    "\n",
    "- UTF-8 is a standard way to represent text as bytes. It supports almost all characters (English, emojis, other languages).\n",
    "\n",
    "- We pass encoding=\"utf-8\" so the file is written/read consistently across platforms (macOS/Windows/Linux) and non-ASCII characters (like 服务名, 🔑) don’t break.\n",
    "\n",
    "- Without UTF-8, some systems might default to encodings that can’t handle those characters.\n",
    "\n",
    "**5. What does indent=2 do in json.dump(store, f, indent=2)?**\n",
    "\n",
    "<u>Answer</u> : \n",
    "\n",
    "- It pretty-prints the JSON with 2 spaces per nesting level, making it easy for humans to read.\n",
    "\n",
    "**6. Why except (json.JSONDecodeError, OSError): is used ?**\n",
    "\n",
    "<u>Answer</u> : \n",
    "\n",
    "We handle two kinds of failures when loading the file:\n",
    "\n",
    " - json.JSONDecodeError → the file exists but isn’t valid JSON.\n",
    "\n",
    "    - Examples:\n",
    "\n",
    "        - You edited the file and left a trailing comma: {\"github\":\"abc123\",}\n",
    "\n",
    "        - The file got truncated mid-write (power loss), leaving partial JSON.\n",
    "\n",
    "        - Someone pasted plain text instead of JSON.\n",
    "\n",
    "- OSError → the operating system can’t read the file.\n",
    "\n",
    "    - Examples:\n",
    "\n",
    "        - File permissions don’t allow reading (chmod 000 vault_plain.json).\n",
    "\n",
    "        - Disk/IO issues, path problems, or the file is locked/unavailable.\n",
    "\n",
    "        - The directory doesn’t exist (if you change the path).\n",
    "\n",
    "Catching both lets us fail gracefully by returning {} instead of crashing, so the app stays usable.\n",
    "\n",
    "**7. What do import json, os do?**\n",
    "\n",
    "<u>Answer</u> : \n",
    "\n",
    "- json — Serialize/deserialize between Python objects and JSON text.\n",
    "\n",
    "    - json.load(f) → file → Python dict\n",
    "\n",
    "    - json.dump(obj, f) → Python dict → file\n",
    "\n",
    "- os — Operating system utilities.\n",
    "\n",
    "    - os.path.exists(path) checks if a file exists.\n",
    "\n",
    "Many other helpers for paths, env vars, permissions, etc."
   ]
  }
 ],
 "metadata": {
  "kernelspec": {
   "display_name": "Python 3 (ipykernel)",
   "language": "python",
   "name": "python3"
  },
  "language_info": {
   "codemirror_mode": {
    "name": "ipython",
    "version": 3
   },
   "file_extension": ".py",
   "mimetype": "text/x-python",
   "name": "python",
   "nbconvert_exporter": "python",
   "pygments_lexer": "ipython3",
   "version": "3.12.4"
  }
 },
 "nbformat": 4,
 "nbformat_minor": 5
}
