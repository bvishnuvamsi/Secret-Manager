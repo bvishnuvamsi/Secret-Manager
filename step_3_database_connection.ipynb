{
 "cells": [
  {
   "cell_type": "code",
   "execution_count": 2,
   "id": "1ebb49d2-c20e-4e65-8c71-4714dd696290",
   "metadata": {},
   "outputs": [
    {
     "name": "stdin",
     "output_type": "stream",
     "text": [
      "Master password:  ········\n"
     ]
    },
    {
     "name": "stdout",
     "output_type": "stream",
     "text": [
      "\n",
      "=== Secrets Manager (Step 3: SQLite + Encryption) ===\n",
      "1) Store API key\n",
      "2) Retrieve API key\n",
      "3) List services\n",
      "4) Delete a service\n",
      "5) Change master password\n",
      "6) Quit\n"
     ]
    },
    {
     "name": "stdin",
     "output_type": "stream",
     "text": [
      "Choose:  1\n",
      "Service name:  github\n",
      "API Key (hidden):  ········\n",
      "Re-enter API Key:  ········\n"
     ]
    },
    {
     "name": "stdout",
     "output_type": "stream",
     "text": [
      "Keys empty or did not match.\n",
      "\n",
      "=== Secrets Manager (Step 3: SQLite + Encryption) ===\n",
      "1) Store API key\n",
      "2) Retrieve API key\n",
      "3) List services\n",
      "4) Delete a service\n",
      "5) Change master password\n",
      "6) Quit\n"
     ]
    },
    {
     "name": "stdin",
     "output_type": "stream",
     "text": [
      "Choose:  3\n"
     ]
    },
    {
     "name": "stdout",
     "output_type": "stream",
     "text": [
      "No services stored yet.\n",
      "\n",
      "=== Secrets Manager (Step 3: SQLite + Encryption) ===\n",
      "1) Store API key\n",
      "2) Retrieve API key\n",
      "3) List services\n",
      "4) Delete a service\n",
      "5) Change master password\n",
      "6) Quit\n"
     ]
    },
    {
     "name": "stdin",
     "output_type": "stream",
     "text": [
      "Choose:  1\n",
      "Service name:  github\n",
      "API Key (hidden):  ········\n",
      "Re-enter API Key:  ········\n"
     ]
    },
    {
     "name": "stdout",
     "output_type": "stream",
     "text": [
      "Stored (encrypted) API key for 'github'.\n",
      "\n",
      "=== Secrets Manager (Step 3: SQLite + Encryption) ===\n",
      "1) Store API key\n",
      "2) Retrieve API key\n",
      "3) List services\n",
      "4) Delete a service\n",
      "5) Change master password\n",
      "6) Quit\n"
     ]
    },
    {
     "name": "stdin",
     "output_type": "stream",
     "text": [
      "Choose:  2\n",
      "Service name to retrieve:  github\n"
     ]
    },
    {
     "name": "stdout",
     "output_type": "stream",
     "text": [
      "API key: 12345\n",
      "\n",
      "=== Secrets Manager (Step 3: SQLite + Encryption) ===\n",
      "1) Store API key\n",
      "2) Retrieve API key\n",
      "3) List services\n",
      "4) Delete a service\n",
      "5) Change master password\n",
      "6) Quit\n"
     ]
    },
    {
     "name": "stdin",
     "output_type": "stream",
     "text": [
      "Choose:  3\n"
     ]
    },
    {
     "name": "stdout",
     "output_type": "stream",
     "text": [
      "Services:\n",
      " - github\n",
      "\n",
      "=== Secrets Manager (Step 3: SQLite + Encryption) ===\n",
      "1) Store API key\n",
      "2) Retrieve API key\n",
      "3) List services\n",
      "4) Delete a service\n",
      "5) Change master password\n",
      "6) Quit\n"
     ]
    },
    {
     "name": "stdin",
     "output_type": "stream",
     "text": [
      "Choose:  4\n",
      "Service to delete:  github\n",
      "Delete 'github'? [y/N]:  y\n"
     ]
    },
    {
     "name": "stdout",
     "output_type": "stream",
     "text": [
      "Deleted.\n",
      "\n",
      "=== Secrets Manager (Step 3: SQLite + Encryption) ===\n",
      "1) Store API key\n",
      "2) Retrieve API key\n",
      "3) List services\n",
      "4) Delete a service\n",
      "5) Change master password\n",
      "6) Quit\n"
     ]
    },
    {
     "name": "stdin",
     "output_type": "stream",
     "text": [
      "Choose:  3\n"
     ]
    },
    {
     "name": "stdout",
     "output_type": "stream",
     "text": [
      "No services stored yet.\n",
      "\n",
      "=== Secrets Manager (Step 3: SQLite + Encryption) ===\n",
      "1) Store API key\n",
      "2) Retrieve API key\n",
      "3) List services\n",
      "4) Delete a service\n",
      "5) Change master password\n",
      "6) Quit\n"
     ]
    },
    {
     "name": "stdin",
     "output_type": "stream",
     "text": [
      "Choose:  6\n"
     ]
    },
    {
     "name": "stdout",
     "output_type": "stream",
     "text": [
      "Goodbye!\n"
     ]
    }
   ],
   "source": [
    "#!/usr/bin/env python3\n",
    "import os\n",
    "import sqlite3\n",
    "import base64\n",
    "import json\n",
    "import getpass\n",
    "from typing import Tuple\n",
    "\n",
    "from cryptography.hazmat.primitives import hashes\n",
    "from cryptography.hazmat.primitives.kdf.pbkdf2 import PBKDF2HMAC\n",
    "from cryptography.fernet import Fernet, InvalidToken\n",
    "\n",
    "DB_FILE = \"vault.sqlite\"\n",
    "KDF_ITERATIONS = 200_000\n",
    "SALT_BYTES = 16\n",
    "\n",
    "# KDF/KEY Derivation\n",
    "# Derive a 32-byte key from (password, salt) using PBKDF2-HMAC(SHA256), then encode it urlsafe base64 for Fernet.\n",
    "# What it does: Turns your human password into a 32-byte key suitable for Fernet.\n",
    "def derive_fernet_key(password: str, salt: bytes, iterations: int) -> bytes:\n",
    "    if not isinstance(password, str) or not password:\n",
    "        raise ValueError(\"Password must be a non-empty string.\")\n",
    "    if not isinstance(salt, (bytes, bytearray)) or len(salt) < 8:\n",
    "        raise ValueError(\"Salt must be bytes and at least 8 bytes long.\")\n",
    "    kdf = PBKDF2HMAC(\n",
    "        algorithm=hashes.SHA256(),\n",
    "        length=32,\n",
    "        salt=salt,\n",
    "        iterations=int(iterations),\n",
    "    )\n",
    "    key_raw = kdf.derive(password.encode(\"utf-8\"))\n",
    "    return base64.urlsafe_b64encode(key_raw)  # Fernet expects urlsafe base64\n",
    "\n",
    "## Database Functions\n",
    "#Purpose: Open (or create) the SQLite database and ensure required tables/metadata exist.\n",
    "def open_db() -> sqlite3.Connection:\n",
    "    init_needed = not os.path.exists(DB_FILE)\n",
    "    conn = sqlite3.connect(DB_FILE)\n",
    "    # Hardening-ish pragmas for reliability\n",
    "    conn.execute(\"PRAGMA journal_mode=WAL;\")\n",
    "    conn.execute(\"PRAGMA synchronous=NORMAL;\")\n",
    "    conn.execute(\"\"\"\n",
    "        CREATE TABLE IF NOT EXISTS meta (\n",
    "            key TEXT PRIMARY KEY,\n",
    "            value TEXT NOT NULL\n",
    "        )\n",
    "    \"\"\")\n",
    "    conn.execute(\"\"\"\n",
    "        CREATE TABLE IF NOT EXISTS secrets (\n",
    "            service TEXT PRIMARY KEY,\n",
    "            ciphertext BLOB NOT NULL\n",
    "        )\n",
    "    \"\"\")\n",
    "    if init_needed:\n",
    "        salt = os.urandom(SALT_BYTES)\n",
    "        conn.execute(\"INSERT INTO meta(key,value) VALUES(?,?)\",\n",
    "                     (\"salt\", base64.b64encode(salt).decode(\"ascii\")))\n",
    "        conn.execute(\"INSERT INTO meta(key,value) VALUES(?,?)\",\n",
    "                     (\"iterations\", str(KDF_ITERATIONS)))\n",
    "        conn.commit()\n",
    "    return conn\n",
    "\n",
    "#Purpose: Load the KDF parameters from the meta table.\n",
    "def get_params(conn: sqlite3.Connection) -> Tuple[bytes, int]:\n",
    "    cur = conn.execute(\"SELECT value FROM meta WHERE key='salt'\")\n",
    "    row = cur.fetchone()\n",
    "    if not row:\n",
    "        raise ValueError(\"Vault missing salt.\")\n",
    "    salt = base64.b64decode(row[0])\n",
    "    cur = conn.execute(\"SELECT value FROM meta WHERE key='iterations'\")\n",
    "    row = cur.fetchone()\n",
    "    if not row:\n",
    "        raise ValueError(\"Vault missing iterations.\")\n",
    "    iterations = int(row[0])\n",
    "    return salt, iterations\n",
    "\n",
    "## Menu OPTIONS\n",
    "# Purpose: Show the menu and read the user’s choice.\n",
    "def ask_menu() -> str:\n",
    "    print(\"\\n - Secrets Manager (Step 3: SQLite + Encryption) ---\")\n",
    "    print(\"Option 1 : Store Service name and API Key\")\n",
    "    print(\"Option 2 : Retrieve API Key based on Service name\")\n",
    "    print(\"Option 3 : List services (names only)\")  \n",
    "    print(\"Option 4 : Delete a service (names only)\")\n",
    "    print(\"Option 5 : Change master password\")\n",
    "    print(\"Option 6 : Exit/Quit\")\n",
    "    return input(\"Choose: \").strip()\n",
    "\n",
    "#Purpose: Simple yes/no confirmation\n",
    "def confirm(prompt: str) -> bool:\n",
    "    return input(f\"{prompt} [y/N]: \").strip().lower() in (\"y\", \"yes\")\n",
    "\n",
    "# password change (re-encrypt all rows) \n",
    "#Purpose: Change the master password and re-encrypt all rows with a new key.\n",
    "#Why: Proper password rotation keeps stored data secure with the new key.\n",
    "def change_master_password(conn: sqlite3.Connection, fernet_old: Fernet) -> Fernet:\n",
    "    # Collect all rows (decrypt with old key)\n",
    "    rows = conn.execute(\"SELECT service, ciphertext FROM secrets\").fetchall()\n",
    "    secrets_plain = []\n",
    "    for service, token in rows:\n",
    "        try:\n",
    "            api_key = fernet_old.decrypt(token).decode(\"utf-8\")\n",
    "            secrets_plain.append((service, api_key))\n",
    "        except InvalidToken:\n",
    "            print(f\"ERROR: Could not decrypt '{service}'. Aborting password change.\")\n",
    "            return fernet_old\n",
    "\n",
    "    # Get new password and set fresh salt/iterations\n",
    "    new_pw_1 = getpass.getpass(\"New master password: \").strip()\n",
    "    new_pw_2 = getpass.getpass(\"Re-enter new master password: \").strip()\n",
    "    if not new_pw_1 or new_pw_1 != new_pw_2:\n",
    "        print(\"Passwords empty or did not match.\")\n",
    "        return fernet_old\n",
    "\n",
    "    new_salt = os.urandom(SALT_BYTES)\n",
    "    conn.execute(\"UPDATE meta SET value=? WHERE key='salt'\",\n",
    "                 (base64.b64encode(new_salt).decode(\"ascii\"),))\n",
    "    conn.execute(\"UPDATE meta SET value=? WHERE key='iterations'\",\n",
    "                 (str(KDF_ITERATIONS),))\n",
    "    conn.commit()\n",
    "\n",
    "    # Build new fernet\n",
    "    new_key = derive_fernet_key(new_pw_1, new_salt, KDF_ITERATIONS)\n",
    "    fernet_new = Fernet(new_key)\n",
    "\n",
    "    # Re-encrypt all secrets in a transaction\n",
    "    try:\n",
    "        with conn:  # atomic\n",
    "            for service, api_key in secrets_plain:\n",
    "                token = fernet_new.encrypt(api_key.encode(\"utf-8\"))\n",
    "                conn.execute(\"UPDATE secrets SET ciphertext=? WHERE service=?\",\n",
    "                             (token, service))\n",
    "        print(\"Master password updated and all secrets re-encrypted.\")\n",
    "        return fernet_new\n",
    "    except Exception as e:\n",
    "        print(f\"ERROR re-encrypting rows: {e}\")\n",
    "        return fernet_old\n",
    "\n",
    "# MAIN Function\n",
    "def main():\n",
    "    conn = open_db()\n",
    "    salt, iterations = get_params(conn)\n",
    "\n",
    "    master_password = getpass.getpass(\"Master password: \")\n",
    "    key_b64 = derive_fernet_key(master_password, salt, iterations)\n",
    "    fernet = Fernet(key_b64)\n",
    "\n",
    "    while True:\n",
    "        choice = ask_menu()\n",
    "\n",
    "        if choice == \"1\":\n",
    "            service = input(\"Service name: \").strip()\n",
    "            if not service:\n",
    "                print(\"Service cannot be empty.\")\n",
    "                continue\n",
    "            api_key_1 = getpass.getpass(\"API Key (hidden): \").strip()\n",
    "            api_key_2 = getpass.getpass(\"Re-enter API Key: \").strip()\n",
    "            if not api_key_1 or api_key_1 != api_key_2:\n",
    "                print(\"Keys empty or did not match.\")\n",
    "                continue\n",
    "\n",
    "            token = fernet.encrypt(api_key_1.encode(\"utf-8\"))\n",
    "            try:\n",
    "                with conn:\n",
    "                    conn.execute(\n",
    "                        \"INSERT INTO secrets(service, ciphertext) VALUES(?, ?) \"\n",
    "                        \"ON CONFLICT(service) DO UPDATE SET ciphertext=excluded.ciphertext\",\n",
    "                        (service, token),\n",
    "                    )\n",
    "                print(f\"Stored (encrypted) API key for '{service}'.\")\n",
    "            except Exception as e:\n",
    "                print(f\"DB error: {e}\")\n",
    "\n",
    "        elif choice == \"2\":\n",
    "            service = input(\"Service name to retrieve: \").strip()\n",
    "            row = conn.execute(\"SELECT ciphertext FROM secrets WHERE service=?\",\n",
    "                               (service,)).fetchone()\n",
    "            if not row:\n",
    "                print(\"NOT FOUND\")\n",
    "            else:\n",
    "                try:\n",
    "                    api_key = fernet.decrypt(row[0]).decode(\"utf-8\")\n",
    "                    print(f\"API key: {api_key}\")\n",
    "                except InvalidToken:\n",
    "                    print(\"ERROR: Wrong password or corrupted data.\")\n",
    "\n",
    "        elif choice == \"3\":\n",
    "            rows = conn.execute(\"SELECT service FROM secrets ORDER BY service ASC\").fetchall()\n",
    "            if not rows:\n",
    "                print(\"No services stored yet.\")\n",
    "            else:\n",
    "                print(\"Services:\")\n",
    "                for (svc,) in rows:\n",
    "                    print(\" -\", svc)\n",
    "\n",
    "        elif choice == \"4\":\n",
    "            svc = input(\"Service to delete: \").strip()\n",
    "            if not svc:\n",
    "                print(\"Service cannot be empty.\")\n",
    "                continue\n",
    "            if confirm(f\"Delete '{svc}'?\"):\n",
    "                with conn:\n",
    "                    cur = conn.execute(\"DELETE FROM secrets WHERE service=?\", (svc,))\n",
    "                if cur.rowcount:\n",
    "                    print(\"Deleted.\")\n",
    "                else:\n",
    "                    print(\"Not found.\")\n",
    "            else:\n",
    "                print(\"Cancelled.\")\n",
    "\n",
    "        elif choice == \"5\":\n",
    "            fernet = change_master_password(conn, fernet)\n",
    "\n",
    "        elif choice == \"6\":\n",
    "            print(\"Thank you for using for Service Manager, See you again\")\n",
    "            break\n",
    "\n",
    "        else:\n",
    "            print(\"Invalid option. Choose 1–6.\")\n",
    "\n",
    "if __name__ == \"__main__\":\n",
    "    main()\n"
   ]
  }
 ],
 "metadata": {
  "kernelspec": {
   "display_name": "Python 3 (ipykernel)",
   "language": "python",
   "name": "python3"
  },
  "language_info": {
   "codemirror_mode": {
    "name": "ipython",
    "version": 3
   },
   "file_extension": ".py",
   "mimetype": "text/x-python",
   "name": "python",
   "nbconvert_exporter": "python",
   "pygments_lexer": "ipython3",
   "version": "3.12.4"
  }
 },
 "nbformat": 4,
 "nbformat_minor": 5
}
