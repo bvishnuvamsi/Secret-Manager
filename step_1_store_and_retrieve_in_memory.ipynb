{
 "cells": [
  {
   "cell_type": "code",
   "execution_count": 10,
   "id": "e7c3b0ae-ff9d-4dd3-95e3-2e80d048df08",
   "metadata": {},
   "outputs": [
    {
     "name": "stdout",
     "output_type": "stream",
     "text": [
      "\n",
      "---Secrets Manager (Functions)---\n",
      "Option 1 : Store Service name and API Key\n",
      "Option 2 : Retrieve API Key based on Service name\n",
      "Option 3 : Exit/Quit\n"
     ]
    },
    {
     "name": "stdin",
     "output_type": "stream",
     "text": [
      "Choose an Option:  2\n",
      "Service name to retrieve:  github\n"
     ]
    },
    {
     "name": "stdout",
     "output_type": "stream",
     "text": [
      "No key stored for 'github'.\n",
      "\n",
      "---Secrets Manager (Functions)---\n",
      "Option 1 : Store Service name and API Key\n",
      "Option 2 : Retrieve API Key based on Service name\n",
      "Option 3 : Exit/Quit\n"
     ]
    },
    {
     "name": "stdin",
     "output_type": "stream",
     "text": [
      "Choose an Option:  1\n",
      "Service name:  github\n",
      "API Key:  12345\n"
     ]
    },
    {
     "name": "stdout",
     "output_type": "stream",
     "text": [
      "Stored API Key for 'github'.\n",
      "\n",
      "---Secrets Manager (Functions)---\n",
      "Option 1 : Store Service name and API Key\n",
      "Option 2 : Retrieve API Key based on Service name\n",
      "Option 3 : Exit/Quit\n"
     ]
    },
    {
     "name": "stdin",
     "output_type": "stream",
     "text": [
      "Choose an Option:  1\n",
      "Service name:  github\n",
      "API Key:  67890\n"
     ]
    },
    {
     "name": "stdout",
     "output_type": "stream",
     "text": [
      "Stored API Key for 'github'.\n",
      "\n",
      "---Secrets Manager (Functions)---\n",
      "Option 1 : Store Service name and API Key\n",
      "Option 2 : Retrieve API Key based on Service name\n",
      "Option 3 : Exit/Quit\n"
     ]
    },
    {
     "name": "stdin",
     "output_type": "stream",
     "text": [
      "Choose an Option:  2\n",
      "Service name to retrieve:  github\n"
     ]
    },
    {
     "name": "stdout",
     "output_type": "stream",
     "text": [
      "API Key for 'github': 67890\n",
      "\n",
      "---Secrets Manager (Functions)---\n",
      "Option 1 : Store Service name and API Key\n",
      "Option 2 : Retrieve API Key based on Service name\n",
      "Option 3 : Exit/Quit\n"
     ]
    },
    {
     "name": "stdin",
     "output_type": "stream",
     "text": [
      "Choose an Option:  3\n"
     ]
    },
    {
     "name": "stdout",
     "output_type": "stream",
     "text": [
      "Thank you for using for Service Manager, See you again\n"
     ]
    }
   ],
   "source": [
    "def ask_menu():\n",
    "    print(\"\\n---Secrets Manager (Functions)---\")\n",
    "    print(\"Option 1 : Store Service name and API Key\")\n",
    "    print(\"Option 2 : Retrieve API Key based on Service name\")\n",
    "    print(\"Option 3 : Exit/Quit\")\n",
    "    return input(\"Choose an Option: \").strip()\n",
    "\n",
    "def main():\n",
    "    store = {}\n",
    "\n",
    "    while True:\n",
    "        choice = ask_menu()\n",
    "\n",
    "        if choice == \"1\":\n",
    "            service = input(\"Service name: \").strip()\n",
    "            api_key = input(\"API Key: \").strip()\n",
    "            if not service:\n",
    "                print(\"Service cannot be empty field\")\n",
    "                continue\n",
    "            store[service] = api_key\n",
    "            print(f\"Stored API Key for '{service}'.\")\n",
    "\n",
    "        elif choice == \"2\":\n",
    "            service = input(\"Service name to retrieve: \").strip()\n",
    "            if service in store:\n",
    "                print(f\"API Key for '{service}': {store[service]}\")\n",
    "            else :\n",
    "                print(f\"No key stored for '{service}'.\")\n",
    "\n",
    "        elif choice == \"3\":\n",
    "            print(\"Thank you for using for Service Manager, See you again\")\n",
    "            break\n",
    "\n",
    "        else:\n",
    "            print(\"Invalid option. Please choose one of the options 1, 2, 3.\")\n",
    "\n",
    "if __name__ == \"__main__\":\n",
    "    main()\n",
    "        "
   ]
  },
  {
   "cell_type": "code",
   "execution_count": 12,
   "id": "6f348019-11ab-4c96-b39a-d4987e24abb2",
   "metadata": {},
   "outputs": [],
   "source": [
    "# Code to convert the .ipynb to .py file\n",
    "## jupyter nbconvert --to script step_1_store_and_retrieve.ipynb\n"
   ]
  }
 ],
 "metadata": {
  "kernelspec": {
   "display_name": "Python 3 (ipykernel)",
   "language": "python",
   "name": "python3"
  },
  "language_info": {
   "codemirror_mode": {
    "name": "ipython",
    "version": 3
   },
   "file_extension": ".py",
   "mimetype": "text/x-python",
   "name": "python",
   "nbconvert_exporter": "python",
   "pygments_lexer": "ipython3",
   "version": "3.12.4"
  }
 },
 "nbformat": 4,
 "nbformat_minor": 5
}
