{
 "cells": [
  {
   "cell_type": "markdown",
   "id": "110c68bb-4660-4868-8d9c-2bbe986a4b82",
   "metadata": {},
   "source": [
    "1A. in-memory prototype (no files yet)\n",
    "\n",
    "What you’ll learn and implement: input handling, a loop, and a dict for storage."
   ]
  },
  {
   "cell_type": "code",
   "execution_count": 10,
   "id": "e7c3b0ae-ff9d-4dd3-95e3-2e80d048df08",
   "metadata": {},
   "outputs": [
    {
     "name": "stdout",
     "output_type": "stream",
     "text": [
      "\n",
      "---Secrets Manager (Functions)---\n",
      "Option 1 : Store Service name and API Key\n",
      "Option 2 : Retrieve API Key based on Service name\n",
      "Option 3 : Exit/Quit\n"
     ]
    },
    {
     "name": "stdin",
     "output_type": "stream",
     "text": [
      "Choose an Option:  2\n",
      "Service name to retrieve:  github\n"
     ]
    },
    {
     "name": "stdout",
     "output_type": "stream",
     "text": [
      "No key stored for 'github'.\n",
      "\n",
      "---Secrets Manager (Functions)---\n",
      "Option 1 : Store Service name and API Key\n",
      "Option 2 : Retrieve API Key based on Service name\n",
      "Option 3 : Exit/Quit\n"
     ]
    },
    {
     "name": "stdin",
     "output_type": "stream",
     "text": [
      "Choose an Option:  1\n",
      "Service name:  github\n",
      "API Key:  12345\n"
     ]
    },
    {
     "name": "stdout",
     "output_type": "stream",
     "text": [
      "Stored API Key for 'github'.\n",
      "\n",
      "---Secrets Manager (Functions)---\n",
      "Option 1 : Store Service name and API Key\n",
      "Option 2 : Retrieve API Key based on Service name\n",
      "Option 3 : Exit/Quit\n"
     ]
    },
    {
     "name": "stdin",
     "output_type": "stream",
     "text": [
      "Choose an Option:  1\n",
      "Service name:  github\n",
      "API Key:  67890\n"
     ]
    },
    {
     "name": "stdout",
     "output_type": "stream",
     "text": [
      "Stored API Key for 'github'.\n",
      "\n",
      "---Secrets Manager (Functions)---\n",
      "Option 1 : Store Service name and API Key\n",
      "Option 2 : Retrieve API Key based on Service name\n",
      "Option 3 : Exit/Quit\n"
     ]
    },
    {
     "name": "stdin",
     "output_type": "stream",
     "text": [
      "Choose an Option:  2\n",
      "Service name to retrieve:  github\n"
     ]
    },
    {
     "name": "stdout",
     "output_type": "stream",
     "text": [
      "API Key for 'github': 67890\n",
      "\n",
      "---Secrets Manager (Functions)---\n",
      "Option 1 : Store Service name and API Key\n",
      "Option 2 : Retrieve API Key based on Service name\n",
      "Option 3 : Exit/Quit\n"
     ]
    },
    {
     "name": "stdin",
     "output_type": "stream",
     "text": [
      "Choose an Option:  3\n"
     ]
    },
    {
     "name": "stdout",
     "output_type": "stream",
     "text": [
      "Thank you for using for Service Manager, See you again\n"
     ]
    }
   ],
   "source": [
    "def ask_menu():\n",
    "    print(\"\\n---Secrets Manager (Functions)---\")\n",
    "    print(\"Option 1 : Store Service name and API Key\")\n",
    "    print(\"Option 2 : Retrieve API Key based on Service name\")\n",
    "    print(\"Option 3 : Exit/Quit\")\n",
    "    return input(\"Choose an Option: \").strip()\n",
    "\n",
    "def main():\n",
    "    store = {}\n",
    "\n",
    "    while True:\n",
    "        choice = ask_menu()\n",
    "\n",
    "        if choice == \"1\":\n",
    "            service = input(\"Service name: \").strip()\n",
    "            api_key = input(\"API Key: \").strip()\n",
    "            if not service:\n",
    "                print(\"Service cannot be empty field\")\n",
    "                continue\n",
    "            store[service] = api_key\n",
    "            print(f\"Stored API Key for '{service}'.\")\n",
    "\n",
    "        elif choice == \"2\":\n",
    "            service = input(\"Service name to retrieve: \").strip()\n",
    "            if service in store:\n",
    "                print(f\"API Key for '{service}': {store[service]}\")\n",
    "            else :\n",
    "                print(f\"No key stored for '{service}'.\")\n",
    "\n",
    "        elif choice == \"3\":\n",
    "            print(\"Thank you for using for Service Manager, See you again\")\n",
    "            break\n",
    "\n",
    "        else:\n",
    "            print(\"Invalid option. Please choose one of the options 1, 2, 3.\")\n",
    "\n",
    "if __name__ == \"__main__\":\n",
    "    main()\n",
    "        "
   ]
  },
  {
   "cell_type": "code",
   "execution_count": 12,
   "id": "6f348019-11ab-4c96-b39a-d4987e24abb2",
   "metadata": {},
   "outputs": [],
   "source": [
    "# Code to convert the .ipynb to .py file\n",
    "## jupyter nbconvert --to script step_1a_store_and_retrieve_in_memory.ipynb"
   ]
  },
  {
   "cell_type": "markdown",
   "id": "40abc705-5e69-4f70-bd3e-93b235b3ddaf",
   "metadata": {},
   "source": [
    "**1. Where are the secrets stored in Step 1A?**\n",
    "\n",
    "<u>Answer</u> :\n",
    "\n",
    "- In a Python dictionary (store = {}) that lives only in memory while the program runs.\n",
    "- Nothing is written to disk.\n",
    "\n",
    "**2. Why do my keys disappear after I quit and rerun?**\n",
    "\n",
    "<u>Answer</u> :\n",
    "\n",
    "- The data is ephemeral. When the Python process ends, the in-memory dict is destroyed, so your secrets are gone on the next run.\n",
    "\n",
    "**3. What happens if I store the same service twice with different keys?**\n",
    "\n",
    "<u>Answer</u> :\n",
    "\n",
    "- A dict keeps one value per key. The most recent value overwrites the previous one:\n",
    "    - store[\"openai\"] = \"old\" → later store[\"openai\"] = \"new\" → final value is \"new\".\n",
    "\n",
    "**4. What happens if I try to retrieve a service that doesn’t exist?**\n",
    "\n",
    "<u>Answer</u> :\n",
    "\n",
    "- The code checks if service in store: and prints “No key stored for 'service'.”\n",
    "- Alternatively, store.get(service, \"NOT FOUND\") would return a default without crashing.\n",
    "\n",
    "**5. Is this secure?**\n",
    "\n",
    "<u>Answer</u> :\n",
    "\n",
    "- No. It’s plaintext in memory and has no encryption.\n",
    "- It’s fine for learning the flow (store/retrieve/menu), but not for real secrets.\n",
    "\n",
    "**6. What’s the time complexity of store/retrieve in a dict?**\n",
    "\n",
    "<u>Answer</u> :\n",
    "\n",
    "- verage-case O(1) for insert (store[service] = key) and lookup (store[service]).\n",
    "- Dicts are hash tables, which is why they’re ideal for this use case.\n",
    "\n",
    "**7. How do I “reset” everything?**\n",
    "\n",
    "<u>Answer</u> :\n",
    "\n",
    "- Just exit and rerun the program. Since nothing is saved to disk, you start with a fresh empty dict each run.\n",
    "\n",
    "**8. What are the limitations of Step 1A?**\n",
    "\n",
    "<u>Answer</u> :\n",
    "\n",
    "- No persistence (data lost on exit).\n",
    "- No encryption (not secure).\n",
    "- Single-session only; can’t share data with another run or another user.\n",
    "\n",
    "**9. How do I run it from Terminal (macOS)?**\n",
    "\n",
    "<u>Answer</u> :\n",
    "\n",
    "- Save as secrets_step1a_memory.py, then:\n",
    "    - python3 secrets_step1a_memory.py\n",
    "\n",
    "- If you accidentally saved it as a Jupyter notebook (.ipynb), convert first:\n",
    "    - jupyter nbconvert --to script step_1a_store_and_retrieve_in_memory.ipynb\n",
    "    - python3 step_1a_store_and_retrieve_in_memory.ipynb"
   ]
  }
 ],
 "metadata": {
  "kernelspec": {
   "display_name": "Python 3 (ipykernel)",
   "language": "python",
   "name": "python3"
  },
  "language_info": {
   "codemirror_mode": {
    "name": "ipython",
    "version": 3
   },
   "file_extension": ".py",
   "mimetype": "text/x-python",
   "name": "python",
   "nbconvert_exporter": "python",
   "pygments_lexer": "ipython3",
   "version": "3.12.4"
  }
 },
 "nbformat": 4,
 "nbformat_minor": 5
}
